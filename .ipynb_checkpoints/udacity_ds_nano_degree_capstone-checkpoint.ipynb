{
 "cells": [
  {
   "cell_type": "code",
   "execution_count": 1,
   "metadata": {
    "_cell_guid": "b1076dfc-b9ad-4769-8c92-a6c4dae69d19",
    "_uuid": "8f2839f25d086af736a60e9eeb907d3b93b6e0e5",
    "execution": {
     "iopub.execute_input": "2022-07-10T09:11:35.170766Z",
     "iopub.status.busy": "2022-07-10T09:11:35.170288Z",
     "iopub.status.idle": "2022-07-10T09:11:35.981157Z",
     "shell.execute_reply": "2022-07-10T09:11:35.979943Z",
     "shell.execute_reply.started": "2022-07-10T09:11:35.170669Z"
    }
   },
   "outputs": [],
   "source": [
    "# This Python 3 environment comes with many helpful analytics libraries installed\n",
    "# It is defined by the kaggle/python Docker image: https://github.com/kaggle/docker-python\n",
    "# For example, here's several helpful packages to load\n",
    "import os\n",
    "import numpy as np # linear algebra\n",
    "import pandas as pd # data processing, CSV file I/O (e.g. pd.read_csv)\n",
    "import matplotlib.pyplot as plt\n",
    "from sklearn.cluster import KMeans\n",
    "from sklearn.decomposition import PCA\n",
    "import pyarrow\n",
    "import plotly.graph_objects as go\n",
    "import plotly.express as px\n",
    "\n",
    "# Input data files are available in the read-only \"../input/\" directory\n",
    "# For example, running this (by clicking run or pressing Shift+Enter) will list all files under the input directory\n",
    "\n",
    "# functions\n",
    "def rename_columns(df):\n",
    "    \"\"\"\n",
    "    input: the dataset we want to rename the columns\n",
    "    output: combine the first row of the dataset into the original column\n",
    "    \"\"\"\n",
    "    original_columns = df.columns\n",
    "    num_col = df.shape[1]\n",
    "    first_row = df.iloc[0] #grab the first row for the header\n",
    "    df = df[1:] #take the data below the first row\n",
    "    # create a list containing new column names\n",
    "    new_cols = []\n",
    "    for col in range(num_col):\n",
    "        new_col_name = original_columns[col] + '_' + first_row[col]\n",
    "        new_cols.append(new_col_name)\n",
    "    df.columns = new_cols # assign the new column names to the dataset\n",
    "    return df\n",
    "\n",
    "def replace_nan(df):\n",
    "    \"\"\"\n",
    "    input:\n",
    "    df - the target dataset\n",
    "    \n",
    "    output:\n",
    "    a new dataset with nan values replaced as 0 and non-nan values replaced with 1\n",
    "    \"\"\"\n",
    "    array = np.where(df.isnull(),0,1)\n",
    "    df = pd.DataFrame(data=array, columns=df.columns)\n",
    "    df.index = df.index + 1\n",
    "    return df\n",
    "\n",
    "def split_cols(df):\n",
    "    \"\"\"\n",
    "    input:\n",
    "    df - target dataframe\n",
    "    \n",
    "    output:\n",
    "    single_questions - a list of column names that belong to single question column\n",
    "    multiple_questions - a list of column names that belong to multiple question column\n",
    "    \"\"\"\n",
    "    single_questions = []\n",
    "    multiple_questions = []\n",
    "    for col in df.columns:\n",
    "        if 'part' in col.lower() or 'other' in col.lower():\n",
    "            multiple_questions.append(col)\n",
    "        else:\n",
    "            single_questions.append(col)\n",
    "    return single_questions, multiple_questions\n",
    "\n",
    "def pivot_col(df, col):\n",
    "    \"\"\"\n",
    "    input:\n",
    "    df - target dataset\n",
    "    col - the column we want to pivot its value as new columns\n",
    "    \n",
    "    output:\n",
    "    return a pivoted dataframe where columns are value from the col of old dataframe\n",
    "    \"\"\"\n",
    "    df['participant_id'] = df.index\n",
    "    pivoted_df = df.pivot(index = 'participant_id', columns=col, values=col).reset_index().iloc[: , 1:]\n",
    "    pivoted_df.index = pivoted_df.index + 1\n",
    "    return pivoted_df\n",
    "\n",
    "def pivot_df(df):\n",
    "    \"\"\"\n",
    "    input:\n",
    "    df - targer dataframe\n",
    "    var_cols - a list of column names we want to pivot\n",
    "    aggr - the column we used to group by the dataset\n",
    "        \n",
    "    output:\n",
    "    return a dataframe where each column comes from value of each col of old dataframe\n",
    "    NaN value replaced with 0 while non-NaN value replaced with 1\n",
    "    \"\"\"\n",
    "    \n",
    "    pivoted_df = []\n",
    "    for col in df.columns:\n",
    "        if col in single_questions: ## single question answers\n",
    "            pivoted = pivot_col(df[[col]], col)\n",
    "            pivoted_df.append(pivoted)\n",
    "        else:\n",
    "            pivoted_df.append(df[[col]])\n",
    "    pivoted_merged_df = pd.concat(pivoted_df, axis=1, ignore_index=False)\n",
    "    return pivoted_merged_df\n",
    "\n",
    "def closest_participant(participant_id, participant_matrix):\n",
    "    \"\"\"\n",
    "    input:\n",
    "    participant_id - target participant\n",
    "    participant_matrix - matrix where shows the similarity between each participant\n",
    "    \n",
    "    output - the list of participants other than the target participant, ranked by similarity\n",
    "    \"\"\"\n",
    "    participant_list = participant_matrix[[participant_id]]\n",
    "    participant_list = participant_list.sort_values(by = participant_id, ascending = False)\n",
    "    \n",
    "    return participant_list.index[1:]\n",
    "\n",
    "def compensation(df , participant):\n",
    "    \"\"\"\n",
    "    input -\n",
    "    df - target dataset\n",
    "    participant - the id of the participant\n",
    "    \n",
    "    output -\n",
    "    the yearly compensation of that participant\n",
    "    \"\"\"\n",
    "    \n",
    "    compensation = df.loc[df.index == participant]['Q25_What is your current yearly compensation (approximate $USD)?'].iloc[0]\n",
    "    \n",
    "    return compensation\n",
    "\n",
    "def similar_user_compensation(df, participant_ids):\n",
    "    \"\"\"\n",
    "    input:\n",
    "    df - target dataset\n",
    "    participant_ids - a list of participant ids\n",
    "    output:\n",
    "    the first participant id that has non-null compensation data\n",
    "    \"\"\"\n",
    "    for participant in participant_ids:\n",
    "        if compensation(df, participant) is not None:\n",
    "            return compensation(df, participant)\n",
    "        else:\n",
    "            pass\n",
    "\n",
    "def same_answers(df, user_1, user_2):\n",
    "    \"\"\"\n",
    "    input\n",
    "    df - target dataset\n",
    "    user_1 - index number of user 1\n",
    "    user_2 - index number of user 2\n",
    "    \n",
    "    output\n",
    "    same_cols - return the column names where answer are same between user 1 and 2\n",
    "    different_cols - return the column names where answer are different between user 1 and 2\n",
    "    \"\"\"\n",
    "    same_cols = []\n",
    "    different_cols = []\n",
    "    answers = df.loc[df.index.isin([user_1,user_2])]\n",
    "    for col in answers.columns:\n",
    "        if answers[col].iloc[0] == answers[col].iloc[1]:\n",
    "            same_cols.append(col)\n",
    "        else:\n",
    "            different_cols.append(col)\n",
    "    return same_cols, different_cols\n",
    "\n",
    "def compute_correlation(df, user1, user2):\n",
    "    '''\n",
    "    INPUT\n",
    "    user1 - int user_id\n",
    "    user2 - int user_id\n",
    "    df - dataset where is a matrix of user and their pivoted answer columns\n",
    "    OUTPUT\n",
    "    the correlation between the matching ratings between the two users\n",
    "    '''\n",
    "    answer_1 = list(df.loc[df.index == user1].iloc[0])\n",
    "    answer_2 = list(df.loc[df.index == user2].iloc[0])\n",
    "    \n",
    "    dot_product = np.vdot(answer_1, answer_2)\n",
    "    \n",
    "    return dot_product #return the correlation\n",
    "\n",
    "def subset_data(df, col, criteria):\n",
    "    \"\"\"\n",
    "    input:\n",
    "    df: the dataset we want to subset from\n",
    "    col: target columns as the filter\n",
    "    criteria: value to feed the filter\n",
    "    \n",
    "    output:\n",
    "    a new dataset which is a subset of the original one\n",
    "    \"\"\"\n",
    "    \n",
    "    new_df = df.loc[df[col] == criteria]\n",
    "    \n",
    "    return new_df\n",
    "\n",
    "def question_columns(df, query, method = 'strict'):\n",
    "    \"\"\"\n",
    "    input: \n",
    "    df - target dataset\n",
    "    query - str, query we want to find relevant infomation in the dataset. e.g. 'Q7', or 'machine learning' \n",
    "    \n",
    "    output:\n",
    "    a subset of data which include the columns of the query in interest\n",
    "    \n",
    "    method:\n",
    "    if it == strict, which means we will look for the question exactly EQUALS to the query. e.g. if we search 'age', then 'language' won't\n",
    "    be taken into account in this case;\n",
    "    \n",
    "    if it == loose, which means we will look for the question exactly CONTAINS the query. e.g. if we search 'age', then 'language' will\n",
    "    be taken into account in this case.\n",
    "    \"\"\"\n",
    "    columns = df.columns\n",
    "    question_col = []\n",
    "    for col in columns:\n",
    "        if method == 'strict':\n",
    "            col_parts = col.lower().split() # each column name will be separated into single word tokens at first\n",
    "            if query.lower() in col_parts:\n",
    "                question_col.append(col)\n",
    "        elif method == 'loose':\n",
    "            if query.lower() in col.lower():\n",
    "                question_col.append(col)\n",
    "    return df[question_col]\n",
    "\n",
    "def kmeans_cluster_opt(df, init = 'k-means++', max_num_cluster = 9):\n",
    "    \"\"\"\n",
    "    input: \n",
    "    df - the dataset we want to segments into cluster\n",
    "    init - the way we want to initialize the starting centroid\n",
    "    max_num_cluster - the max number of cluster\n",
    "    \n",
    "    output:\n",
    "    a visualization showing the line graph indicating the optimal number of klusters, based on inertias value\n",
    "    \"\"\"\n",
    "    num_clusters = list(range(1, max_num_cluster))\n",
    "    inertias = []\n",
    "\n",
    "    for k in num_clusters:\n",
    "        model = KMeans(init=init, n_clusters=k, random_state = 42)\n",
    "        model.fit(df)\n",
    "        inertias.append(model.inertia_)\n",
    "\n",
    "    \n",
    "    plt.plot(num_clusters, inertias, '-o')\n",
    "\n",
    "    plt.xlabel('number of clusters (k)')\n",
    "    plt.ylabel('inertia')\n",
    "\n",
    "    plt.show()\n",
    "\n",
    "def kmeans_predict(df, init = 'k-means++', n_clusters = 4):\n",
    "    \"\"\"\n",
    "    input:\n",
    "    df - dataset we want to segment into clusters\n",
    "    init - the way we want to initialize the starting centroid\n",
    "    n_clusters - the number of cluster\n",
    "    \n",
    "    output:\n",
    "    labels - return an array of predictions on the cluster label of given features\n",
    "    centers - centroid values of each cluster\n",
    "    \"\"\"\n",
    "    model = KMeans(init=init, n_clusters = n_clusters, random_state = 42)\n",
    "\n",
    "    model.fit(df)\n",
    "\n",
    "    labels = model.predict(df)\n",
    "    \n",
    "    centers = np.array(model.cluster_centers_)\n",
    "    \n",
    "    return labels, centers\n",
    "\n",
    "def percentage_row(df):\n",
    "    \"\"\"\n",
    "    input:\n",
    "    df - target dataframe\n",
    "    \n",
    "    output - a new dataframe in which each cell represents the row \n",
    "    percengatge value of the corresponding one in the target dataframe\n",
    "    \n",
    "    \"\"\"\n",
    "    new_df = df.div(df.sum(axis=1), axis=0)\n",
    "    new_df_share = round(new_df.apply(lambda x: x*100), 1).reset_index()\n",
    "    return new_df_share\n",
    "\n",
    "def cluster_aggr(df, cols):\n",
    "    \"\"\"\n",
    "    input\n",
    "    df: target dataset\n",
    "    \n",
    "    cols: columns of the question we are interested to see the segmentation\n",
    "    \n",
    "    output:\n",
    "    a new dataframe that contains the number of participants for each question option\n",
    "    \"\"\"\n",
    "    aggr = df.groupby(['cluster']).sum()\n",
    "    aggr_col = aggr.iloc[:, cols]\n",
    "    \n",
    "    return aggr_col\n"
   ]
  },
  {
   "cell_type": "markdown",
   "metadata": {},
   "source": [
    "# Cluster Analysis of Kaggle 2021 Survey Participants\n",
    "\n",
    "## Introduction\n",
    "\n",
    "## Problem Statement\n",
    "The fundatmental question of this analysis is how many clusters regarding the statistical pattern users answer the survey differently. Based on that, I want to also understand -\n",
    "\n",
    "1. How does the participant profile looks like per cluster?\n",
    "I have grouped the survey questions into five - demograpgics, profession, knowledge and skillset, learning and development. It offers us various perspective to make the profile overall of each cluster.\n",
    "\n",
    "\n",
    "2. Is there any similarity or relationship between the participant cluster? "
   ]
  },
  {
   "cell_type": "markdown",
   "metadata": {},
   "source": [
    "## Data Cleaning\n",
    "The dataset is from [Kaggle Machine Learning & Data Science Survey](https://www.kaggle.com/competitions/kaggle-survey-2021). According to the competition host, it has collected 25,973 valid answers from Kaggle users. Kaggle is a free online data science community where participants could attend data science competitions. Its annual survey is representative to understand professionists in the data science world."
   ]
  },
  {
   "cell_type": "code",
   "execution_count": 7,
   "metadata": {},
   "outputs": [
    {
     "name": "stdout",
     "output_type": "stream",
     "text": [
      "The dataset has 25974 rows.\n",
      "The dataset has 368 columns.\n"
     ]
    }
   ],
   "source": [
    "# load dataset\n",
    "data = pd.read_parquet(\"/Users/jasmine/udacity_ds_nano_degree_capstone/data.parquet\")\n",
    "\n",
    "# first five rows\n",
    "# data.head()\n",
    "\n",
    "# remove the column Time from Start to Finish (seconds)\n",
    "data = data.iloc[: , 1:]\n",
    "\n",
    "# size of the dataset\n",
    "data.shape # 25973 rows, 369 columns\n",
    "\n",
    "print(\"The dataset has \" + str(data.shape[0]) + \" rows.\")\n",
    "\n",
    "print(\"The dataset has \" + str(data.shape[1]) + \" columns.\")"
   ]
  },
  {
   "cell_type": "code",
   "execution_count": 8,
   "metadata": {},
   "outputs": [
    {
     "name": "stderr",
     "output_type": "stream",
     "text": [
      "<ipython-input-1-62dac633e28c>:75: SettingWithCopyWarning: \n",
      "A value is trying to be set on a copy of a slice from a DataFrame.\n",
      "Try using .loc[row_indexer,col_indexer] = value instead\n",
      "\n",
      "See the caveats in the documentation: https://pandas.pydata.org/pandas-docs/stable/user_guide/indexing.html#returning-a-view-versus-a-copy\n",
      "  df['participant_id'] = df.index\n"
     ]
    }
   ],
   "source": [
    "# make question as columne names\n",
    "renamed_data = rename_columns(data)\n",
    "\n",
    "# group questions into two categories\n",
    "# single_questions if it is a single answer question\n",
    "# multiple_questions if it is a multiple answer question\n",
    "single_questions = split_cols(renamed_data)[0]\n",
    "multiple_questions = split_cols(renamed_data)[1]\n",
    "\n",
    "# pivot the dataset to one option one column\n",
    "# turn answer as binary data where chosen is 1 and not chosen is 0 \n",
    "pivoted_data = pivot_df(renamed_data)\n",
    "binary_data = replace_nan(pivoted_data)"
   ]
  },
  {
   "cell_type": "markdown",
   "metadata": {},
   "source": [
    "## Method\n",
    "This analysis adopts K-means to find participant clusters based on the pattern how they respond to the survey. It  aims to partition n observations into k clusters in which each observation belongs to the cluster with the nearest mean (cluster centers or cluster centroid), serving as a prototype of the cluster [link](https://en.wikipedia.org/wiki/K-means_clustering)."
   ]
  },
  {
   "cell_type": "markdown",
   "metadata": {},
   "source": [
    "## Analysis\n",
    "\n"
   ]
  },
  {
   "cell_type": "markdown",
   "metadata": {},
   "source": [
    "## Requiment\n",
    "Python libraries are required to run this notebook\n",
    "\n",
    "os/numpy/pandas/matplotlib/sklearn/pyarrow/plotly\n",
    "\n",
    "## Acknowledge\n",
    "The dataset for building this model is coming from Kaggle. Kudos to the Kaggle community!\n",
    "\n",
    "## Conclusion"
   ]
  },
  {
   "cell_type": "code",
   "execution_count": 10,
   "metadata": {
    "execution": {
     "iopub.execute_input": "2022-07-10T09:49:43.831554Z",
     "iopub.status.busy": "2022-07-10T09:49:43.830831Z",
     "iopub.status.idle": "2022-07-10T09:49:43.844867Z",
     "shell.execute_reply": "2022-07-10T09:49:43.843778Z",
     "shell.execute_reply.started": "2022-07-10T09:49:43.831501Z"
    }
   },
   "outputs": [
    {
     "data": {
      "image/png": "[encoded data removed]",
      "text/plain": [
       "<Figure size 432x288 with 1 Axes>"
      ]
     },
     "metadata": {
      "needs_background": "light"
     },
     "output_type": "display_data"
    }
   ],
   "source": [
    "# explore how many number cluster can give a small enough inertia and also be as small number as possible\n",
    "kmeans_cluster_opt(binary_data)"
   ]
  },
  {
   "cell_type": "code",
   "execution_count": 11,
   "metadata": {},
   "outputs": [],
   "source": [
    "# create a new column cluster segmenting participants\n",
    "binary_data['cluster'] = kmeans_predict(binary_data , n_clusters = 3)[0]"
   ]
  },
  {
   "cell_type": "code",
   "execution_count": 12,
   "metadata": {},
   "outputs": [
    {
     "data": {
      "text/plain": [
       "cluster\n",
       "0    11301\n",
       "1     6945\n",
       "2     7727\n",
       "dtype: int64"
      ]
     },
     "execution_count": 12,
     "metadata": {},
     "output_type": "execute_result"
    }
   ],
   "source": [
    "binary_data.groupby(['cluster']).size()"
   ]
  },
  {
   "cell_type": "code",
   "execution_count": 14,
   "metadata": {},
   "outputs": [],
   "source": [
    "# Question and its number of columns\n",
    "qs_num = {\n",
    "    \"Age\" : [0,11],\n",
    "    \"Gender\" : [11,16],\n",
    "    \"Country\" : [16,82],\n",
    "    \"HighEdu\" : [82,89],\n",
    "    \"Employment\" : [89,104],\n",
    "    \"CodeExp\" : [104,111],\n",
    "    \"ProgLangReg\" : [111,125],\n",
    "    \"ProgLangRec\" : [125,138],\n",
    "    \"IDE\" : [138,151],\n",
    "    \"HostNotebook\" : [151, 169],\n",
    "    \"CompPlatMost\" : [169,175],\n",
    "    \"HardwareReg\" : [175,182],\n",
    "    \"TPUtimes\" : [182, 187],\n",
    "    \"VisualLib\" : [187,200],\n",
    "    \"MLmethd\" : [200,209],\n",
    "    \"MLframe\" : [209,227],\n",
    "    \"MLalgorithm\" : [227,239],\n",
    "    \"CompVis\" : [239,246],\n",
    "    \"NLP\" : [246,253],\n",
    "    \"Industry\" : [253,272],\n",
    "    \"SizeEmployer\" : [272,278],\n",
    "    \"SizeDS\" : [278,287],\n",
    "    \"DSBusiness\" : [287,292],\n",
    "    \"WorkAct\" : [292,301],\n",
    "    \"Compensation\" : [301,328],\n",
    "    \"InvestDS\" : [328, 334],\n",
    "    \"CldCompPltReg\" : [334,347],\n",
    "    \"CldCompPltBstExp\" : [347,360],\n",
    "    \"CldCompProdReg\" : [360,365],\n",
    "    \"DataStoreProdReg\" : [365,373],\n",
    "    \"ManageMLProdReg\" : [373,383],\n",
    "    \"BigDataProdReg\" : [383,405],\n",
    "    \"BigDataProdMost\" : [405,425],\n",
    "    \"IntegenceReg\" : [425,443],\n",
    "    \"IntegenceMost\" : [443,459],\n",
    "    \"IsAutoML\" : [459,467],\n",
    "    \"AutoMLReg\" : [467,475],\n",
    "    \"MLexperiment\" : [475,487],\n",
    "    \"PubShare\" : [487,497],\n",
    "    \"Courses\" : [497,510],\n",
    "    \"PrimaryTool\" : [510,516],\n",
    "    \"FavMedia\" : [516,528],\n",
    "    \"CldCompPltNxt\" : [528,540],\n",
    "    \"CldCompProdNxt\" : [540,545],\n",
    "    \"DataStoreProdNxt\" : [545,553],\n",
    "    \"ManageMLProdNxt\" : [553,563],\n",
    "    \"BigDataProdNxt\" : [563,584],\n",
    "    \"IntegenceNxt\" : [584,601],\n",
    "    \"AutoMLCatNxt\" : [601,609],\n",
    "    \"AutoMLProdNxt\" : [609,617],\n",
    "    \"MLexperimentNxt\" : [617,629]\n",
    "    \n",
    "}"
   ]
  },
  {
   "cell_type": "code",
   "execution_count": 24,
   "metadata": {},
   "outputs": [],
   "source": [
    "gender_aggr = cluster_aggr(binary_data, range(qs_num[\"Gender\"][0], qs_num[\"Gender\"][1]))"
   ]
  },
  {
   "cell_type": "code",
   "execution_count": 33,
   "metadata": {},
   "outputs": [],
   "source": [
    "gender_perc = percentage_row(gender_aggr)"
   ]
  },
  {
   "cell_type": "code",
   "execution_count": 34,
   "metadata": {},
   "outputs": [
    {
     "data": {
      "text/html": [
       "<div>\n",
       "<style scoped>\n",
       "    .dataframe tbody tr th:only-of-type {\n",
       "        vertical-align: middle;\n",
       "    }\n",
       "\n",
       "    .dataframe tbody tr th {\n",
       "        vertical-align: top;\n",
       "    }\n",
       "\n",
       "    .dataframe thead th {\n",
       "        text-align: right;\n",
       "    }\n",
       "</style>\n",
       "<table border=\"1\" class=\"dataframe\">\n",
       "  <thead>\n",
       "    <tr style=\"text-align: right;\">\n",
       "      <th></th>\n",
       "      <th>cluster</th>\n",
       "      <th>Man</th>\n",
       "      <th>Nonbinary</th>\n",
       "      <th>Prefer not to say</th>\n",
       "      <th>Prefer to self-describe</th>\n",
       "      <th>Woman</th>\n",
       "    </tr>\n",
       "  </thead>\n",
       "  <tbody>\n",
       "    <tr>\n",
       "      <th>0</th>\n",
       "      <td>0</td>\n",
       "      <td>75.6</td>\n",
       "      <td>0.4</td>\n",
       "      <td>1.6</td>\n",
       "      <td>0.2</td>\n",
       "      <td>22.2</td>\n",
       "    </tr>\n",
       "    <tr>\n",
       "      <th>1</th>\n",
       "      <td>1</td>\n",
       "      <td>78.4</td>\n",
       "      <td>0.3</td>\n",
       "      <td>0.9</td>\n",
       "      <td>0.2</td>\n",
       "      <td>20.3</td>\n",
       "    </tr>\n",
       "    <tr>\n",
       "      <th>2</th>\n",
       "      <td>2</td>\n",
       "      <td>85.6</td>\n",
       "      <td>0.3</td>\n",
       "      <td>1.4</td>\n",
       "      <td>0.1</td>\n",
       "      <td>12.5</td>\n",
       "    </tr>\n",
       "  </tbody>\n",
       "</table>\n",
       "</div>"
      ],
      "text/plain": [
       "   cluster   Man  Nonbinary  Prefer not to say  Prefer to self-describe  Woman\n",
       "0        0  75.6        0.4                1.6                      0.2   22.2\n",
       "1        1  78.4        0.3                0.9                      0.2   20.3\n",
       "2        2  85.6        0.3                1.4                      0.1   12.5"
      ]
     },
     "execution_count": 34,
     "metadata": {},
     "output_type": "execute_result"
    }
   ],
   "source": [
    "gender_perc"
   ]
  },
  {
   "cell_type": "code",
   "execution_count": 42,
   "metadata": {},
   "outputs": [
    {
     "data": {
      "application/vnd.plotly.v1+json": {
       "config": {
        "plotlyServerURL": "https://plot.ly"
       },
       "data": [
        {
         "name": "Man",
         "type": "bar",
         "x": [
          0,
          1,
          2
         ],
         "y": [
          75.6,
          78.4,
          85.6
         ]
        },
        {
         "name": "Nonbinary",
         "type": "bar",
         "x": [
          0,
          1,
          2
         ],
         "y": [
          0.4,
          0.3,
          0.3
         ]
        },
        {
         "name": "Prefer not to say",
         "type": "bar",
         "x": [
          0,
          1,
          2
         ],
         "y": [
          1.6,
          0.9,
          1.4
         ]
        },
        {
         "name": "Prefer to self-describe",
         "type": "bar",
         "x": [
          0,
          1,
          2
         ],
         "y": [
          0.2,
          0.2,
          0.1
         ]
        },
        {
         "name": "Woman",
         "type": "bar",
         "x": [
          0,
          1,
          2
         ],
         "y": [
          22.2,
          20.3,
          12.5
         ]
        }
       ],
       "layout": {
        "template": {
         "data": {
          "bar": [
           {
            "error_x": {
             "color": "#2a3f5f"
            },
            "error_y": {
             "color": "#2a3f5f"
            },
            "marker": {
             "line": {
              "color": "#E5ECF6",
              "width": 0.5
             },
             "pattern": {
              "fillmode": "overlay",
              "size": 10,
              "solidity": 0.2
             }
            },
            "type": "bar"
           }
          ],
          "barpolar": [
           {
            "marker": {
             "line": {
              "color": "#E5ECF6",
              "width": 0.5
             },
             "pattern": {
              "fillmode": "overlay",
              "size": 10,
              "solidity": 0.2
             }
            },
            "type": "barpolar"
           }
          ],
          "carpet": [
           {
            "aaxis": {
             "endlinecolor": "#2a3f5f",
             "gridcolor": "white",
             "linecolor": "white",
             "minorgridcolor": "white",
             "startlinecolor": "#2a3f5f"
            },
            "baxis": {
             "endlinecolor": "#2a3f5f",
             "gridcolor": "white",
             "linecolor": "white",
             "minorgridcolor": "white",
             "startlinecolor": "#2a3f5f"
            },
            "type": "carpet"
           }
          ],
          "choropleth": [
           {
            "colorbar": {
             "outlinewidth": 0,
             "ticks": ""
            },
            "type": "choropleth"
           }
          ],
          "contour": [
           {
            "colorbar": {
             "outlinewidth": 0,
             "ticks": ""
            },
            "colorscale": [
             [
              0,
              "#0d0887"
             ],
             [
              0.1111111111111111,
              "#46039f"
             ],
             [
              0.2222222222222222,
              "#7201a8"
             ],
             [
              0.3333333333333333,
              "#9c179e"
             ],
             [
              0.4444444444444444,
              "#bd3786"
             ],
             [
              0.5555555555555556,
              "#d8576b"
             ],
             [
              0.6666666666666666,
              "#ed7953"
             ],
             [
              0.7777777777777778,
              "#fb9f3a"
             ],
             [
              0.8888888888888888,
              "#fdca26"
             ],
             [
              1,
              "#f0f921"
             ]
            ],
            "type": "contour"
           }
          ],
          "contourcarpet": [
           {
            "colorbar": {
             "outlinewidth": 0,
             "ticks": ""
            },
            "type": "contourcarpet"
           }
          ],
          "heatmap": [
           {
            "colorbar": {
             "outlinewidth": 0,
             "ticks": ""
            },
            "colorscale": [
             [
              0,
              "#0d0887"
             ],
             [
              0.1111111111111111,
              "#46039f"
             ],
             [
              0.2222222222222222,
              "#7201a8"
             ],
             [
              0.3333333333333333,
              "#9c179e"
             ],
             [
              0.4444444444444444,
              "#bd3786"
             ],
             [
              0.5555555555555556,
              "#d8576b"
             ],
             [
              0.6666666666666666,
              "#ed7953"
             ],
             [
              0.7777777777777778,
              "#fb9f3a"
             ],
             [
              0.8888888888888888,
              "#fdca26"
             ],
             [
              1,
              "#f0f921"
             ]
            ],
            "type": "heatmap"
           }
          ],
          "heatmapgl": [
           {
            "colorbar": {
             "outlinewidth": 0,
             "ticks": ""
            },
            "colorscale": [
             [
              0,
              "#0d0887"
             ],
             [
              0.1111111111111111,
              "#46039f"
             ],
             [
              0.2222222222222222,
              "#7201a8"
             ],
             [
              0.3333333333333333,
              "#9c179e"
             ],
             [
              0.4444444444444444,
              "#bd3786"
             ],
             [
              0.5555555555555556,
              "#d8576b"
             ],
             [
              0.6666666666666666,
              "#ed7953"
             ],
             [
              0.7777777777777778,
              "#fb9f3a"
             ],
             [
              0.8888888888888888,
              "#fdca26"
             ],
             [
              1,
              "#f0f921"
             ]
            ],
            "type": "heatmapgl"
           }
          ],
          "histogram": [
           {
            "marker": {
             "pattern": {
              "fillmode": "overlay",
              "size": 10,
              "solidity": 0.2
             }
            },
            "type": "histogram"
           }
          ],
          "histogram2d": [
           {
            "colorbar": {
             "outlinewidth": 0,
             "ticks": ""
            },
            "colorscale": [
             [
              0,
              "#0d0887"
             ],
             [
              0.1111111111111111,
              "#46039f"
             ],
             [
              0.2222222222222222,
              "#7201a8"
             ],
             [
              0.3333333333333333,
              "#9c179e"
             ],
             [
              0.4444444444444444,
              "#bd3786"
             ],
             [
              0.5555555555555556,
              "#d8576b"
             ],
             [
              0.6666666666666666,
              "#ed7953"
             ],
             [
              0.7777777777777778,
              "#fb9f3a"
             ],
             [
              0.8888888888888888,
              "#fdca26"
             ],
             [
              1,
              "#f0f921"
             ]
            ],
            "type": "histogram2d"
           }
          ],
          "histogram2dcontour": [
           {
            "colorbar": {
             "outlinewidth": 0,
             "ticks": ""
            },
            "colorscale": [
             [
              0,
              "#0d0887"
             ],
             [
              0.1111111111111111,
              "#46039f"
             ],
             [
              0.2222222222222222,
              "#7201a8"
             ],
             [
              0.3333333333333333,
              "#9c179e"
             ],
             [
              0.4444444444444444,
              "#bd3786"
             ],
             [
              0.5555555555555556,
              "#d8576b"
             ],
             [
              0.6666666666666666,
              "#ed7953"
             ],
             [
              0.7777777777777778,
              "#fb9f3a"
             ],
             [
              0.8888888888888888,
              "#fdca26"
             ],
             [
              1,
              "#f0f921"
             ]
            ],
            "type": "histogram2dcontour"
           }
          ],
          "mesh3d": [
           {
            "colorbar": {
             "outlinewidth": 0,
             "ticks": ""
            },
            "type": "mesh3d"
           }
          ],
          "parcoords": [
           {
            "line": {
             "colorbar": {
              "outlinewidth": 0,
              "ticks": ""
             }
            },
            "type": "parcoords"
           }
          ],
          "pie": [
           {
            "automargin": true,
            "type": "pie"
           }
          ],
          "scatter": [
           {
            "fillpattern": {
             "fillmode": "overlay",
             "size": 10,
             "solidity": 0.2
            },
            "type": "scatter"
           }
          ],
          "scatter3d": [
           {
            "line": {
             "colorbar": {
              "outlinewidth": 0,
              "ticks": ""
             }
            },
            "marker": {
             "colorbar": {
              "outlinewidth": 0,
              "ticks": ""
             }
            },
            "type": "scatter3d"
           }
          ],
          "scattercarpet": [
           {
            "marker": {
             "colorbar": {
              "outlinewidth": 0,
              "ticks": ""
             }
            },
            "type": "scattercarpet"
           }
          ],
          "scattergeo": [
           {
            "marker": {
             "colorbar": {
              "outlinewidth": 0,
              "ticks": ""
             }
            },
            "type": "scattergeo"
           }
          ],
          "scattergl": [
           {
            "marker": {
             "colorbar": {
              "outlinewidth": 0,
              "ticks": ""
             }
            },
            "type": "scattergl"
           }
          ],
          "scattermapbox": [
           {
            "marker": {
             "colorbar": {
              "outlinewidth": 0,
              "ticks": ""
             }
            },
            "type": "scattermapbox"
           }
          ],
          "scatterpolar": [
           {
            "marker": {
             "colorbar": {
              "outlinewidth": 0,
              "ticks": ""
             }
            },
            "type": "scatterpolar"
           }
          ],
          "scatterpolargl": [
           {
            "marker": {
             "colorbar": {
              "outlinewidth": 0,
              "ticks": ""
             }
            },
            "type": "scatterpolargl"
           }
          ],
          "scatterternary": [
           {
            "marker": {
             "colorbar": {
              "outlinewidth": 0,
              "ticks": ""
             }
            },
            "type": "scatterternary"
           }
          ],
          "surface": [
           {
            "colorbar": {
             "outlinewidth": 0,
             "ticks": ""
            },
            "colorscale": [
             [
              0,
              "#0d0887"
             ],
             [
              0.1111111111111111,
              "#46039f"
             ],
             [
              0.2222222222222222,
              "#7201a8"
             ],
             [
              0.3333333333333333,
              "#9c179e"
             ],
             [
              0.4444444444444444,
              "#bd3786"
             ],
             [
              0.5555555555555556,
              "#d8576b"
             ],
             [
              0.6666666666666666,
              "#ed7953"
             ],
             [
              0.7777777777777778,
              "#fb9f3a"
             ],
             [
              0.8888888888888888,
              "#fdca26"
             ],
             [
              1,
              "#f0f921"
             ]
            ],
            "type": "surface"
           }
          ],
          "table": [
           {
            "cells": {
             "fill": {
              "color": "#EBF0F8"
             },
             "line": {
              "color": "white"
             }
            },
            "header": {
             "fill": {
              "color": "#C8D4E3"
             },
             "line": {
              "color": "white"
             }
            },
            "type": "table"
           }
          ]
         },
         "layout": {
          "annotationdefaults": {
           "arrowcolor": "#2a3f5f",
           "arrowhead": 0,
           "arrowwidth": 1
          },
          "autotypenumbers": "strict",
          "coloraxis": {
           "colorbar": {
            "outlinewidth": 0,
            "ticks": ""
           }
          },
          "colorscale": {
           "diverging": [
            [
             0,
             "#8e0152"
            ],
            [
             0.1,
             "#c51b7d"
            ],
            [
             0.2,
             "#de77ae"
            ],
            [
             0.3,
             "#f1b6da"
            ],
            [
             0.4,
             "#fde0ef"
            ],
            [
             0.5,
             "#f7f7f7"
            ],
            [
             0.6,
             "#e6f5d0"
            ],
            [
             0.7,
             "#b8e186"
            ],
            [
             0.8,
             "#7fbc41"
            ],
            [
             0.9,
             "#4d9221"
            ],
            [
             1,
             "#276419"
            ]
           ],
           "sequential": [
            [
             0,
             "#0d0887"
            ],
            [
             0.1111111111111111,
             "#46039f"
            ],
            [
             0.2222222222222222,
             "#7201a8"
            ],
            [
             0.3333333333333333,
             "#9c179e"
            ],
            [
             0.4444444444444444,
             "#bd3786"
            ],
            [
             0.5555555555555556,
             "#d8576b"
            ],
            [
             0.6666666666666666,
             "#ed7953"
            ],
            [
             0.7777777777777778,
             "#fb9f3a"
            ],
            [
             0.8888888888888888,
             "#fdca26"
            ],
            [
             1,
             "#f0f921"
            ]
           ],
           "sequentialminus": [
            [
             0,
             "#0d0887"
            ],
            [
             0.1111111111111111,
             "#46039f"
            ],
            [
             0.2222222222222222,
             "#7201a8"
            ],
            [
             0.3333333333333333,
             "#9c179e"
            ],
            [
             0.4444444444444444,
             "#bd3786"
            ],
            [
             0.5555555555555556,
             "#d8576b"
            ],
            [
             0.6666666666666666,
             "#ed7953"
            ],
            [
             0.7777777777777778,
             "#fb9f3a"
            ],
            [
             0.8888888888888888,
             "#fdca26"
            ],
            [
             1,
             "#f0f921"
            ]
           ]
          },
          "colorway": [
           "#636efa",
           "#EF553B",
           "#00cc96",
           "#ab63fa",
           "#FFA15A",
           "#19d3f3",
           "#FF6692",
           "#B6E880",
           "#FF97FF",
           "#FECB52"
          ],
          "font": {
           "color": "#2a3f5f"
          },
          "geo": {
           "bgcolor": "white",
           "lakecolor": "white",
           "landcolor": "#E5ECF6",
           "showlakes": true,
           "showland": true,
           "subunitcolor": "white"
          },
          "hoverlabel": {
           "align": "left"
          },
          "hovermode": "closest",
          "mapbox": {
           "style": "light"
          },
          "paper_bgcolor": "white",
          "plot_bgcolor": "#E5ECF6",
          "polar": {
           "angularaxis": {
            "gridcolor": "white",
            "linecolor": "white",
            "ticks": ""
           },
           "bgcolor": "#E5ECF6",
           "radialaxis": {
            "gridcolor": "white",
            "linecolor": "white",
            "ticks": ""
           }
          },
          "scene": {
           "xaxis": {
            "backgroundcolor": "#E5ECF6",
            "gridcolor": "white",
            "gridwidth": 2,
            "linecolor": "white",
            "showbackground": true,
            "ticks": "",
            "zerolinecolor": "white"
           },
           "yaxis": {
            "backgroundcolor": "#E5ECF6",
            "gridcolor": "white",
            "gridwidth": 2,
            "linecolor": "white",
            "showbackground": true,
            "ticks": "",
            "zerolinecolor": "white"
           },
           "zaxis": {
            "backgroundcolor": "#E5ECF6",
            "gridcolor": "white",
            "gridwidth": 2,
            "linecolor": "white",
            "showbackground": true,
            "ticks": "",
            "zerolinecolor": "white"
           }
          },
          "shapedefaults": {
           "line": {
            "color": "#2a3f5f"
           }
          },
          "ternary": {
           "aaxis": {
            "gridcolor": "white",
            "linecolor": "white",
            "ticks": ""
           },
           "baxis": {
            "gridcolor": "white",
            "linecolor": "white",
            "ticks": ""
           },
           "bgcolor": "#E5ECF6",
           "caxis": {
            "gridcolor": "white",
            "linecolor": "white",
            "ticks": ""
           }
          },
          "title": {
           "x": 0.05
          },
          "xaxis": {
           "automargin": true,
           "gridcolor": "white",
           "linecolor": "white",
           "ticks": "",
           "title": {
            "standoff": 15
           },
           "zerolinecolor": "white",
           "zerolinewidth": 2
          },
          "yaxis": {
           "automargin": true,
           "gridcolor": "white",
           "linecolor": "white",
           "ticks": "",
           "title": {
            "standoff": 15
           },
           "zerolinecolor": "white",
           "zerolinewidth": 2
          }
         }
        }
       }
      },
      "text/html": [
       "<div>                            <div id=\"204ae218-83b2-403d-9e1f-f5da395c659b\" class=\"plotly-graph-div\" style=\"height:525px; width:100%;\"></div>            <script type=\"text/javascript\">                require([\"plotly\"], function(Plotly) {                    window.PLOTLYENV=window.PLOTLYENV || {};                                    if (document.getElementById(\"204ae218-83b2-403d-9e1f-f5da395c659b\")) {                    Plotly.newPlot(                        \"204ae218-83b2-403d-9e1f-f5da395c659b\",                        [{\"name\":\"Man\",\"x\":[0,1,2],\"y\":[75.6,78.4,85.6],\"type\":\"bar\"},{\"name\":\"Nonbinary\",\"x\":[0,1,2],\"y\":[0.4,0.3,0.3],\"type\":\"bar\"},{\"name\":\"Prefer not to say\",\"x\":[0,1,2],\"y\":[1.6,0.9,1.4],\"type\":\"bar\"},{\"name\":\"Prefer to self-describe\",\"x\":[0,1,2],\"y\":[0.2,0.2,0.1],\"type\":\"bar\"},{\"name\":\"Woman\",\"x\":[0,1,2],\"y\":[22.2,20.3,12.5],\"type\":\"bar\"}],                        {\"template\":{\"data\":{\"histogram2dcontour\":[{\"type\":\"histogram2dcontour\",\"colorbar\":{\"outlinewidth\":0,\"ticks\":\"\"},\"colorscale\":[[0.0,\"#0d0887\"],[0.1111111111111111,\"#46039f\"],[0.2222222222222222,\"#7201a8\"],[0.3333333333333333,\"#9c179e\"],[0.4444444444444444,\"#bd3786\"],[0.5555555555555556,\"#d8576b\"],[0.6666666666666666,\"#ed7953\"],[0.7777777777777778,\"#fb9f3a\"],[0.8888888888888888,\"#fdca26\"],[1.0,\"#f0f921\"]]}],\"choropleth\":[{\"type\":\"choropleth\",\"colorbar\":{\"outlinewidth\":0,\"ticks\":\"\"}}],\"histogram2d\":[{\"type\":\"histogram2d\",\"colorbar\":{\"outlinewidth\":0,\"ticks\":\"\"},\"colorscale\":[[0.0,\"#0d0887\"],[0.1111111111111111,\"#46039f\"],[0.2222222222222222,\"#7201a8\"],[0.3333333333333333,\"#9c179e\"],[0.4444444444444444,\"#bd3786\"],[0.5555555555555556,\"#d8576b\"],[0.6666666666666666,\"#ed7953\"],[0.7777777777777778,\"#fb9f3a\"],[0.8888888888888888,\"#fdca26\"],[1.0,\"#f0f921\"]]}],\"heatmap\":[{\"type\":\"heatmap\",\"colorbar\":{\"outlinewidth\":0,\"ticks\":\"\"},\"colorscale\":[[0.0,\"#0d0887\"],[0.1111111111111111,\"#46039f\"],[0.2222222222222222,\"#7201a8\"],[0.3333333333333333,\"#9c179e\"],[0.4444444444444444,\"#bd3786\"],[0.5555555555555556,\"#d8576b\"],[0.6666666666666666,\"#ed7953\"],[0.7777777777777778,\"#fb9f3a\"],[0.8888888888888888,\"#fdca26\"],[1.0,\"#f0f921\"]]}],\"heatmapgl\":[{\"type\":\"heatmapgl\",\"colorbar\":{\"outlinewidth\":0,\"ticks\":\"\"},\"colorscale\":[[0.0,\"#0d0887\"],[0.1111111111111111,\"#46039f\"],[0.2222222222222222,\"#7201a8\"],[0.3333333333333333,\"#9c179e\"],[0.4444444444444444,\"#bd3786\"],[0.5555555555555556,\"#d8576b\"],[0.6666666666666666,\"#ed7953\"],[0.7777777777777778,\"#fb9f3a\"],[0.8888888888888888,\"#fdca26\"],[1.0,\"#f0f921\"]]}],\"contourcarpet\":[{\"type\":\"contourcarpet\",\"colorbar\":{\"outlinewidth\":0,\"ticks\":\"\"}}],\"contour\":[{\"type\":\"contour\",\"colorbar\":{\"outlinewidth\":0,\"ticks\":\"\"},\"colorscale\":[[0.0,\"#0d0887\"],[0.1111111111111111,\"#46039f\"],[0.2222222222222222,\"#7201a8\"],[0.3333333333333333,\"#9c179e\"],[0.4444444444444444,\"#bd3786\"],[0.5555555555555556,\"#d8576b\"],[0.6666666666666666,\"#ed7953\"],[0.7777777777777778,\"#fb9f3a\"],[0.8888888888888888,\"#fdca26\"],[1.0,\"#f0f921\"]]}],\"surface\":[{\"type\":\"surface\",\"colorbar\":{\"outlinewidth\":0,\"ticks\":\"\"},\"colorscale\":[[0.0,\"#0d0887\"],[0.1111111111111111,\"#46039f\"],[0.2222222222222222,\"#7201a8\"],[0.3333333333333333,\"#9c179e\"],[0.4444444444444444,\"#bd3786\"],[0.5555555555555556,\"#d8576b\"],[0.6666666666666666,\"#ed7953\"],[0.7777777777777778,\"#fb9f3a\"],[0.8888888888888888,\"#fdca26\"],[1.0,\"#f0f921\"]]}],\"mesh3d\":[{\"type\":\"mesh3d\",\"colorbar\":{\"outlinewidth\":0,\"ticks\":\"\"}}],\"scatter\":[{\"fillpattern\":{\"fillmode\":\"overlay\",\"size\":10,\"solidity\":0.2},\"type\":\"scatter\"}],\"parcoords\":[{\"type\":\"parcoords\",\"line\":{\"colorbar\":{\"outlinewidth\":0,\"ticks\":\"\"}}}],\"scatterpolargl\":[{\"type\":\"scatterpolargl\",\"marker\":{\"colorbar\":{\"outlinewidth\":0,\"ticks\":\"\"}}}],\"bar\":[{\"error_x\":{\"color\":\"#2a3f5f\"},\"error_y\":{\"color\":\"#2a3f5f\"},\"marker\":{\"line\":{\"color\":\"#E5ECF6\",\"width\":0.5},\"pattern\":{\"fillmode\":\"overlay\",\"size\":10,\"solidity\":0.2}},\"type\":\"bar\"}],\"scattergeo\":[{\"type\":\"scattergeo\",\"marker\":{\"colorbar\":{\"outlinewidth\":0,\"ticks\":\"\"}}}],\"scatterpolar\":[{\"type\":\"scatterpolar\",\"marker\":{\"colorbar\":{\"outlinewidth\":0,\"ticks\":\"\"}}}],\"histogram\":[{\"marker\":{\"pattern\":{\"fillmode\":\"overlay\",\"size\":10,\"solidity\":0.2}},\"type\":\"histogram\"}],\"scattergl\":[{\"type\":\"scattergl\",\"marker\":{\"colorbar\":{\"outlinewidth\":0,\"ticks\":\"\"}}}],\"scatter3d\":[{\"type\":\"scatter3d\",\"line\":{\"colorbar\":{\"outlinewidth\":0,\"ticks\":\"\"}},\"marker\":{\"colorbar\":{\"outlinewidth\":0,\"ticks\":\"\"}}}],\"scattermapbox\":[{\"type\":\"scattermapbox\",\"marker\":{\"colorbar\":{\"outlinewidth\":0,\"ticks\":\"\"}}}],\"scatterternary\":[{\"type\":\"scatterternary\",\"marker\":{\"colorbar\":{\"outlinewidth\":0,\"ticks\":\"\"}}}],\"scattercarpet\":[{\"type\":\"scattercarpet\",\"marker\":{\"colorbar\":{\"outlinewidth\":0,\"ticks\":\"\"}}}],\"carpet\":[{\"aaxis\":{\"endlinecolor\":\"#2a3f5f\",\"gridcolor\":\"white\",\"linecolor\":\"white\",\"minorgridcolor\":\"white\",\"startlinecolor\":\"#2a3f5f\"},\"baxis\":{\"endlinecolor\":\"#2a3f5f\",\"gridcolor\":\"white\",\"linecolor\":\"white\",\"minorgridcolor\":\"white\",\"startlinecolor\":\"#2a3f5f\"},\"type\":\"carpet\"}],\"table\":[{\"cells\":{\"fill\":{\"color\":\"#EBF0F8\"},\"line\":{\"color\":\"white\"}},\"header\":{\"fill\":{\"color\":\"#C8D4E3\"},\"line\":{\"color\":\"white\"}},\"type\":\"table\"}],\"barpolar\":[{\"marker\":{\"line\":{\"color\":\"#E5ECF6\",\"width\":0.5},\"pattern\":{\"fillmode\":\"overlay\",\"size\":10,\"solidity\":0.2}},\"type\":\"barpolar\"}],\"pie\":[{\"automargin\":true,\"type\":\"pie\"}]},\"layout\":{\"autotypenumbers\":\"strict\",\"colorway\":[\"#636efa\",\"#EF553B\",\"#00cc96\",\"#ab63fa\",\"#FFA15A\",\"#19d3f3\",\"#FF6692\",\"#B6E880\",\"#FF97FF\",\"#FECB52\"],\"font\":{\"color\":\"#2a3f5f\"},\"hovermode\":\"closest\",\"hoverlabel\":{\"align\":\"left\"},\"paper_bgcolor\":\"white\",\"plot_bgcolor\":\"#E5ECF6\",\"polar\":{\"bgcolor\":\"#E5ECF6\",\"angularaxis\":{\"gridcolor\":\"white\",\"linecolor\":\"white\",\"ticks\":\"\"},\"radialaxis\":{\"gridcolor\":\"white\",\"linecolor\":\"white\",\"ticks\":\"\"}},\"ternary\":{\"bgcolor\":\"#E5ECF6\",\"aaxis\":{\"gridcolor\":\"white\",\"linecolor\":\"white\",\"ticks\":\"\"},\"baxis\":{\"gridcolor\":\"white\",\"linecolor\":\"white\",\"ticks\":\"\"},\"caxis\":{\"gridcolor\":\"white\",\"linecolor\":\"white\",\"ticks\":\"\"}},\"coloraxis\":{\"colorbar\":{\"outlinewidth\":0,\"ticks\":\"\"}},\"colorscale\":{\"sequential\":[[0.0,\"#0d0887\"],[0.1111111111111111,\"#46039f\"],[0.2222222222222222,\"#7201a8\"],[0.3333333333333333,\"#9c179e\"],[0.4444444444444444,\"#bd3786\"],[0.5555555555555556,\"#d8576b\"],[0.6666666666666666,\"#ed7953\"],[0.7777777777777778,\"#fb9f3a\"],[0.8888888888888888,\"#fdca26\"],[1.0,\"#f0f921\"]],\"sequentialminus\":[[0.0,\"#0d0887\"],[0.1111111111111111,\"#46039f\"],[0.2222222222222222,\"#7201a8\"],[0.3333333333333333,\"#9c179e\"],[0.4444444444444444,\"#bd3786\"],[0.5555555555555556,\"#d8576b\"],[0.6666666666666666,\"#ed7953\"],[0.7777777777777778,\"#fb9f3a\"],[0.8888888888888888,\"#fdca26\"],[1.0,\"#f0f921\"]],\"diverging\":[[0,\"#8e0152\"],[0.1,\"#c51b7d\"],[0.2,\"#de77ae\"],[0.3,\"#f1b6da\"],[0.4,\"#fde0ef\"],[0.5,\"#f7f7f7\"],[0.6,\"#e6f5d0\"],[0.7,\"#b8e186\"],[0.8,\"#7fbc41\"],[0.9,\"#4d9221\"],[1,\"#276419\"]]},\"xaxis\":{\"gridcolor\":\"white\",\"linecolor\":\"white\",\"ticks\":\"\",\"title\":{\"standoff\":15},\"zerolinecolor\":\"white\",\"automargin\":true,\"zerolinewidth\":2},\"yaxis\":{\"gridcolor\":\"white\",\"linecolor\":\"white\",\"ticks\":\"\",\"title\":{\"standoff\":15},\"zerolinecolor\":\"white\",\"automargin\":true,\"zerolinewidth\":2},\"scene\":{\"xaxis\":{\"backgroundcolor\":\"#E5ECF6\",\"gridcolor\":\"white\",\"linecolor\":\"white\",\"showbackground\":true,\"ticks\":\"\",\"zerolinecolor\":\"white\",\"gridwidth\":2},\"yaxis\":{\"backgroundcolor\":\"#E5ECF6\",\"gridcolor\":\"white\",\"linecolor\":\"white\",\"showbackground\":true,\"ticks\":\"\",\"zerolinecolor\":\"white\",\"gridwidth\":2},\"zaxis\":{\"backgroundcolor\":\"#E5ECF6\",\"gridcolor\":\"white\",\"linecolor\":\"white\",\"showbackground\":true,\"ticks\":\"\",\"zerolinecolor\":\"white\",\"gridwidth\":2}},\"shapedefaults\":{\"line\":{\"color\":\"#2a3f5f\"}},\"annotationdefaults\":{\"arrowcolor\":\"#2a3f5f\",\"arrowhead\":0,\"arrowwidth\":1},\"geo\":{\"bgcolor\":\"white\",\"landcolor\":\"#E5ECF6\",\"subunitcolor\":\"white\",\"showland\":true,\"showlakes\":true,\"lakecolor\":\"white\"},\"title\":{\"x\":0.05},\"mapbox\":{\"style\":\"light\"}}}},                        {\"responsive\": true}                    ).then(function(){\n",
       "                            \n",
       "var gd = document.getElementById('204ae218-83b2-403d-9e1f-f5da395c659b');\n",
       "var x = new MutationObserver(function (mutations, observer) {{\n",
       "        var display = window.getComputedStyle(gd).display;\n",
       "        if (!display || display === 'none') {{\n",
       "            console.log([gd, 'removed!']);\n",
       "            Plotly.purge(gd);\n",
       "            observer.disconnect();\n",
       "        }}\n",
       "}});\n",
       "\n",
       "// Listen for the removal of the full notebook cells\n",
       "var notebookContainer = gd.closest('#notebook-container');\n",
       "if (notebookContainer) {{\n",
       "    x.observe(notebookContainer, {childList: true});\n",
       "}}\n",
       "\n",
       "// Listen for the clearing of the current output cell\n",
       "var outputEl = gd.closest('.output');\n",
       "if (outputEl) {{\n",
       "    x.observe(outputEl, {childList: true});\n",
       "}}\n",
       "\n",
       "                        })                };                });            </script>        </div>"
      ]
     },
     "metadata": {},
     "output_type": "display_data"
    }
   ],
   "source": [
    "def plot_bar_perc(df, cols):\n",
    "    \"\"\"\n",
    "    input:\n",
    "    df - target dataframe\n",
    "    cols - columns we want to present as bars in the outcome chart\n",
    "    \n",
    "    output:\n",
    "    a bar chart where each bar represents the share of each value in the column aggregated by cluster\n",
    "    \"\"\"\n",
    "    fig = go.Figure()\n",
    "    \n",
    "    for col in cols:\n",
    "        fig.add_trace(go.Bar(x=gender_perc['cluster'], \n",
    "                             y=gender_perc[col],\n",
    "                            name = col))\n",
    "    fig.show()\n",
    "\n",
    "plot_bar_perc(gender_perc, gender_perc.columns[1:])"
   ]
  },
  {
   "cell_type": "code",
   "execution_count": 48,
   "metadata": {},
   "outputs": [],
   "source": [
    "scatter_df = binary_data.iloc[:,range(qs_num[\"HighEdu\"][0], qs_num[\"HighEdu\"][1])]"
   ]
  },
  {
   "cell_type": "code",
   "execution_count": 49,
   "metadata": {},
   "outputs": [
    {
     "name": "stderr",
     "output_type": "stream",
     "text": [
      "<ipython-input-49-56b253774c35>:1: SettingWithCopyWarning:\n",
      "\n",
      "\n",
      "A value is trying to be set on a copy of a slice from a DataFrame.\n",
      "Try using .loc[row_indexer,col_indexer] = value instead\n",
      "\n",
      "See the caveats in the documentation: https://pandas.pydata.org/pandas-docs/stable/user_guide/indexing.html#returning-a-view-versus-a-copy\n",
      "\n"
     ]
    }
   ],
   "source": [
    "scatter_df['cluster'] = binary_data['cluster']"
   ]
  },
  {
   "cell_type": "code",
   "execution_count": 50,
   "metadata": {},
   "outputs": [
    {
     "data": {
      "text/html": [
       "<div>\n",
       "<style scoped>\n",
       "    .dataframe tbody tr th:only-of-type {\n",
       "        vertical-align: middle;\n",
       "    }\n",
       "\n",
       "    .dataframe tbody tr th {\n",
       "        vertical-align: top;\n",
       "    }\n",
       "\n",
       "    .dataframe thead th {\n",
       "        text-align: right;\n",
       "    }\n",
       "</style>\n",
       "<table border=\"1\" class=\"dataframe\">\n",
       "  <thead>\n",
       "    <tr style=\"text-align: right;\">\n",
       "      <th></th>\n",
       "      <th>Bachelor’s degree</th>\n",
       "      <th>Doctoral degree</th>\n",
       "      <th>I prefer not to answer</th>\n",
       "      <th>Master’s degree</th>\n",
       "      <th>No formal education past high school</th>\n",
       "      <th>Professional doctorate</th>\n",
       "      <th>Some college/university study without earning a bachelor’s degree</th>\n",
       "      <th>cluster</th>\n",
       "    </tr>\n",
       "  </thead>\n",
       "  <tbody>\n",
       "    <tr>\n",
       "      <th>1</th>\n",
       "      <td>1</td>\n",
       "      <td>0</td>\n",
       "      <td>0</td>\n",
       "      <td>0</td>\n",
       "      <td>0</td>\n",
       "      <td>0</td>\n",
       "      <td>0</td>\n",
       "      <td>2</td>\n",
       "    </tr>\n",
       "    <tr>\n",
       "      <th>2</th>\n",
       "      <td>0</td>\n",
       "      <td>0</td>\n",
       "      <td>0</td>\n",
       "      <td>1</td>\n",
       "      <td>0</td>\n",
       "      <td>0</td>\n",
       "      <td>0</td>\n",
       "      <td>0</td>\n",
       "    </tr>\n",
       "    <tr>\n",
       "      <th>3</th>\n",
       "      <td>0</td>\n",
       "      <td>0</td>\n",
       "      <td>0</td>\n",
       "      <td>1</td>\n",
       "      <td>0</td>\n",
       "      <td>0</td>\n",
       "      <td>0</td>\n",
       "      <td>1</td>\n",
       "    </tr>\n",
       "    <tr>\n",
       "      <th>4</th>\n",
       "      <td>0</td>\n",
       "      <td>1</td>\n",
       "      <td>0</td>\n",
       "      <td>0</td>\n",
       "      <td>0</td>\n",
       "      <td>0</td>\n",
       "      <td>0</td>\n",
       "      <td>0</td>\n",
       "    </tr>\n",
       "    <tr>\n",
       "      <th>5</th>\n",
       "      <td>0</td>\n",
       "      <td>1</td>\n",
       "      <td>0</td>\n",
       "      <td>0</td>\n",
       "      <td>0</td>\n",
       "      <td>0</td>\n",
       "      <td>0</td>\n",
       "      <td>2</td>\n",
       "    </tr>\n",
       "  </tbody>\n",
       "</table>\n",
       "</div>"
      ],
      "text/plain": [
       "   Bachelor’s degree  Doctoral degree  I prefer not to answer  \\\n",
       "1                  1                0                       0   \n",
       "2                  0                0                       0   \n",
       "3                  0                0                       0   \n",
       "4                  0                1                       0   \n",
       "5                  0                1                       0   \n",
       "\n",
       "   Master’s degree  No formal education past high school  \\\n",
       "1                0                                     0   \n",
       "2                1                                     0   \n",
       "3                1                                     0   \n",
       "4                0                                     0   \n",
       "5                0                                     0   \n",
       "\n",
       "   Professional doctorate  \\\n",
       "1                       0   \n",
       "2                       0   \n",
       "3                       0   \n",
       "4                       0   \n",
       "5                       0   \n",
       "\n",
       "   Some college/university study without earning a bachelor’s degree  cluster  \n",
       "1                                                  0                        2  \n",
       "2                                                  0                        0  \n",
       "3                                                  0                        1  \n",
       "4                                                  0                        0  \n",
       "5                                                  0                        2  "
      ]
     },
     "execution_count": 50,
     "metadata": {},
     "output_type": "execute_result"
    }
   ],
   "source": [
    "scatter_df.head()"
   ]
  },
  {
   "cell_type": "code",
   "execution_count": 43,
   "metadata": {},
   "outputs": [
    {
     "data": {
      "text/plain": [
       "[82, 89]"
      ]
     },
     "execution_count": 43,
     "metadata": {},
     "output_type": "execute_result"
    }
   ],
   "source": [
    "# gender / education\n",
    "\n",
    "qs_num[\"HighEdu\"]"
   ]
  },
  {
   "cell_type": "code",
   "execution_count": 44,
   "metadata": {},
   "outputs": [
    {
     "data": {
      "text/plain": [
       "[11, 16]"
      ]
     },
     "execution_count": 44,
     "metadata": {},
     "output_type": "execute_result"
    }
   ],
   "source": [
    "qs_num[\"Gender\"]"
   ]
  },
  {
   "cell_type": "code",
   "execution_count": null,
   "metadata": {},
   "outputs": [],
   "source": []
  },
  {
   "cell_type": "markdown",
   "metadata": {},
   "source": [
    "\"\"\"\n",
    "col\n",
    "\n",
    "0 : 11 - age\n",
    "c0 and c1 younger groups 18-21, 22-24, 25-29\n",
    "\n",
    "c2 30-34 highest share\n",
    "\n",
    "c1 youngest\n",
    "\n",
    "11 : 16 - gender\n",
    "all male dominant\n",
    "for cluster 2, the male is the highest over 85%\n",
    "\n",
    "\n",
    "16 : 82 - country\n",
    "Developing countries, China, India and Russia have lower shares in cluster 2,\n",
    "while it is the opposite in western developed countries\n",
    "\n",
    "82 : 89 - education\n",
    "c2 has higher share of Doctoral degree than 1 and 2\n",
    "\n",
    "89 : 104 - employment\n",
    "\n",
    "c1 highest unemployed and students, c2 lowest\n",
    "\n",
    "c0,1 students high\n",
    "\n",
    "c2 ds 29%\n",
    "\n",
    "c0,1 da, sfe\n",
    "\n",
    "104 : 111 - coding exp\n",
    "c2 highest\n",
    "\n",
    "c0 least experienced in coding\n",
    "\n",
    "111 : 125 - What programming languages do you use on a regular basis?\n",
    "Python very close among the three clusters\n",
    "\n",
    "c0,1 higher at C and C++\n",
    "\n",
    "c2, higher at R and SQL\n",
    "\n",
    "125 : 138 - recommend language for new ds\n",
    "\n",
    "c0 has a same level with c2 that use Python as basis language in regular\n",
    "however, c0 has 5% lower in recommeding DS to leanr Py than c2. \n",
    "R and SQL actually high in shares in C0, considering theri lower usage of both in regular basis\n",
    "\n",
    "138 : 151 - Which of the following integrated development environments (IDE's) do you use on a regular basis? \n",
    "\n",
    "Jupyter notebook among three highest\n",
    "\n",
    "Vim / Emacs c2 has double in shares, absolute value lowest though\n",
    "\n",
    "c0 highest VS studio and Pycharm\n",
    "\n",
    "151 : 169 Which of the following hosted notebook products do you use on a regular basis?\n",
    "\n",
    "c0 33% no hostednoted book\n",
    "\n",
    "169 : 175 Q11_What type of computing platform do you use most often for your data science projects?\n",
    "\n",
    "c2 cloud computing and deep learning work station higher\n",
    "\n",
    "c1 has highest share in laptop, 2% higher than c0\n",
    "\n",
    "\n",
    "175 : 182 Q12_Part_1_Which types of specialized hardware do you use on a regular basis?\n",
    "\n",
    "C2 have far more hardware than 1 and 0\n",
    "\n",
    "182 : 187 Q13_Approximately how many times have you used a TPU (tensor processing unit)?\n",
    "\n",
    "C2 used it more often than any of the other two\n",
    "\n",
    "187 : 200 What data visualization libraries or tools do you use on a regular basis?\n",
    "\n",
    "C2 has a wider range of visualization options e.g. shiny D3\n",
    "\n",
    "200 : 209 - machine learning methods\n",
    "\n",
    "Over 1 year is a critical period for ML learning\n",
    "\n",
    "210 : 227 - Which of the following machine learning frameworks do you use on a regular basis?\n",
    "\n",
    "C2 has a wider range of framework options\n",
    "\n",
    "227 : 239 - Which of the following ML algorithms do you use on a regular basis?\n",
    "\n",
    "C2 wider range\n",
    "\n",
    "239 : 246 - Which categories of computer vision methods do you use on a regular basis?\n",
    "\n",
    "c1 and c2 are very similar\n",
    "\n",
    "246 : 253 - Which of the following natural language processing (NLP) methods do you use on a regular basis?\n",
    "\n",
    "c2 has wider range\n",
    "\n",
    "253 : 272 - industry\n",
    "c0 and 1 higher in academics and education\n",
    "\n",
    "c2 computer / tech / online business sales\n",
    "\n",
    "272 : 278 - size of employer\n",
    "c2 highest in largest employers\n",
    "\n",
    "278 : 287 - Approximately how many individuals are responsible for data science workloads at your place of business?\n",
    "\n",
    "c2 has the highest share in highest number\n",
    "\n",
    "287 : 292 - Does your current employer incorporate machine learning methods into their business?\n",
    "\n",
    "C2 highest in model in production\n",
    "\n",
    "293 : 301 - Select any activities that make up an important part of your role at work\n",
    "\n",
    "0 and 1 are more faciliate\n",
    "\n",
    "2 is more advanced and automated?\n",
    "\n",
    "301 : 328 - yearly compensation\n",
    "\n",
    "c2 highest, then c0 , c1 lastly\n",
    "\n",
    "328 : 334 - Approximately how much money have you (or your team) spent on machine learning and/or cloud computing services at home (or at work) in the past 5 years (approximate $USD)? \n",
    "\n",
    "c2 highest, then 0 and 1 almost none\n",
    "\n",
    "334 : 347 - Which of the following cloud computing platforms do you use on a regular basis?\n",
    "\n",
    "c2 has highest in almost all popular platforms\n",
    "\n",
    "347 : 360 - Of the cloud platforms that you are familiar with, which has the best developer experience\n",
    "\n",
    "C2 likes AWS while C1 likes Google Cloud platform\n",
    "\n",
    "360 : 365 - Do you use any of the following cloud computing products on a regular basis?\n",
    "\n",
    "c2 Amazon Elastic Compute Cloud  \n",
    "\n",
    "c2 and c0 similar at Microsoft Azure Virtual Machines\n",
    "\n",
    "365 : 373 - Do you use any of the following data storage products on a regular basis?\n",
    "\n",
    "same trend as platform and product\n",
    "\n",
    "373 : 383 - Do you use any of the following managed machine learning products on a regular basis?\n",
    "\n",
    "\n",
    "383 : 405 - Which of the following big data products (relational databases, data warehouses, data lakes, or similar) do you use on a regular basis?\n",
    "My SQL most popular among the three\n",
    "\n",
    "405 : 425 - Which of the following big data products (relational database, data warehouse, data lake, or similar) do you use most often?\n",
    "\n",
    "MySQL for all popular\n",
    "Microsoft SQL server C1\n",
    "PostgreSQL C2\n",
    "\n",
    "425 : 443 - Which of the following business intelligence tools do you use on a regular basis?\n",
    "C2 - C1 - C0\n",
    "tableau\n",
    "microsoft power bi\n",
    "\n",
    "443 : 459 - Which of the following business intelligence tools do you use most often?\n",
    "Microsoft Power BI\n",
    "and Tableau\n",
    "\n",
    "C2 has more flexiblity at the most often used bi tools\n",
    "\n",
    "459 : 467 - Do you use any automated machine learning tools (or partial AutoML tools) on a regular basis?\n",
    "\n",
    "c2 highest in each category\n",
    "\n",
    "model selection, augmented data and parameter tuning\n",
    "\n",
    "467 : 475 - Which of the following automated machine learning tools (or partial AutoML tools) do you use on a regular basis?\n",
    "C2 has a lot more share choosing None\n",
    "\n",
    "475 : 487 - Do you use any tools to help manage machine learning experiments?\n",
    "\n",
    "Tensorflow, Weights and bias\n",
    "\n",
    "487 : 497 - Where do you publicly share your data analysis or machine learning applications?\n",
    "C2 wins at most categories\n",
    "\n",
    "Github, Kaggle, Colab\n",
    "\n",
    "497 : 510 - On which platforms have you begun or completed data science courses?\n",
    "\n",
    "Platform certificats, udacity and coursera - c2\n",
    "\n",
    "C2 don't really like Kaggle courses\n",
    "\n",
    "510 : 516 - What is the primary tool that you use at work or school to analyze data?\n",
    "C2 and 1 high in Local development environments (RStudio, JupyterLab, etc.\n",
    "C0 basic statistic software\n",
    "\n",
    "516 : 528 - Who/what are your favorite media sources that report on data science topics?\n",
    "\n",
    "C2 podcast, journal, slack community and blogs\n",
    "\n",
    "528 : 540 - Which of the following cloud computing platforms do you hope to become more familiar with in the next 2 years?\n",
    "C2 highest in None!\n",
    "\n",
    "540 : 545 - In the next 2 years, do you hope to become more familiar with any of these specific cloud computing products?\n",
    "C2 highest in None!\n",
    "\n",
    "545 : 553 - In the next 2 years, do you hope to become more familiar with any of these specific data storage products?\n",
    "All NaN, data issue? No, they are all None actually.\n",
    "\n",
    "553 : 563 - In the next 2 years, do you hope to become more familiar with any of these managed machine learning products?\n",
    "C2 highest in None!\n",
    "\n",
    "563 : 584 - Which of the following big data products (relational databases, data warehouses, data lakes, or similar) do you hope to become more familiar with in the next 2 years?\n",
    "Amazon RDS, snowflake for C2\n",
    "C2 highest in None!\n",
    "\n",
    "584 : 601 - hich of the following business intelligence tools do you hope to become more familiar with in the next 2 years?\n",
    "C2 highest in None!\n",
    "\n",
    "601 : 609 - Which categories of automated machine learning tools (or partial AutoML tools) do you hope to become more familiar with in the next 2 years?\n",
    "C2 Automated feature engineering/selection and parameter tuning\n",
    "\n",
    "609 : 617 - Which specific automated machine learning tools (or partial AutoML tools) do you hope to become more familiar with in the next 2 years?\n",
    "C2 highest in Other and None\n",
    "\n",
    "617 : 629 - In the next 2 years, do you hope to become more familiar with any of these tools for managing ML experiments?\n",
    "C2 TensorBoard and MLflow\n",
    "\n",
    "high in None and Other\n",
    "\"\"\""
   ]
  },
  {
   "cell_type": "code",
   "execution_count": null,
   "metadata": {},
   "outputs": [],
   "source": [
    "\"\"\"\n",
    "By adopting K-means cluster analysis, I find there are three types of participants - C0, C1 and C2, depending on \n",
    "\n",
    "the answers they choose to the survey. I'd categorise questions into five groups\n",
    "\n",
    "1. Demographics\n",
    "    Q1_Age, Q2_Gender, Q3_Country, Q4_Highest_Education\n",
    "    \n",
    "2. Profession\n",
    "    Q5_Role, Q19_industry, Q20_size_employer, Q21_size_ds, \n",
    "    Q22_ds_business, Q23_work_activity, Q24_compensation, Q25_invest\n",
    "    \n",
    "3. Tools\n",
    "    Q9_IDE, Q10_hosted_notebook_product, Q11_computing_platform, Q12_specialized_hardware, Q13_TPU_times, \n",
    "    Q26_cloud_computing_platform_regular, Q27_cloud_computing_platform_exp, Q28_cloud_computing_product,\n",
    "    Q29_data_storage_product, Q30_big_data_prod_regular, Q31_big_data_prod_most, Q32_intelligence_regular,\n",
    "    Q33_intelligence_most, Q34_is_use_auto_ml, Q35_auto_ml_regular, Q36_ml_experiment, Q39_primary_tool\n",
    "    \n",
    "4. Knowledge and Skillset\n",
    "    Q6_yr_coding, Q7_programming_language_regular, Q8_programming_language_recommend, Q14_visualization_lib,\n",
    "    Q15_yr_machine_learning, Q16_machine_learning_framework, Q16_machine_learning_algorithm, Q17_computer_vision_method,\n",
    "    Q18_nlp_method, Q37_pub_share, Q38_courses, Q40_fav_media, \n",
    "    \n",
    "5. Development\n",
    "    Q11_computing_platform_2yr, Q28_cloud_computing_product_2yr, Q29_data_storage_product_2yr, Q30_big_data_prod_2yr,\n",
    "    _ml_prod_2yr, Q32_intelligence_2yr, Q35_auto_ml_2yr, Q36_ml_experiment_2yr\n",
    "\"\"\"\n"
   ]
  },
  {
   "cell_type": "code",
   "execution_count": null,
   "metadata": {},
   "outputs": [],
   "source": [
    "\"\"\"\n",
    "By adopting K-means cluster analysis, I find there are three types of participants - C0, C1 and C2, depending on \n",
    "\n",
    "the answers they choose to the survey. I'd categorise questions into ... groups\n",
    "\n",
    "1. Demographics\n",
    "    Age, Gender, Resident Country, Highest Education\n",
    "2. Profession\n",
    "    Role\n",
    "3. Tools\n",
    "\n",
    "4. Skillset\n",
    "\n",
    "5. Development\n",
    "\n",
    "columns = [\n",
    "    '18-21', '22-24', '25-29', '30-34', '35-39', '40-44', '45-49', '50-54','55-59', '60-69', '70+', # age\n",
    "    'Man', 'Woman', 'Prefer to self-describe', 'Nonbinary', 'Prefer not to say', # gender\n",
    "    'Algeria', 'Egypt', 'Ethiopia', 'Ghana', 'Kenya', 'Morocco', 'Nigeria', 'South Africa', 'Tunisia',  'Uganda',\n",
    "    'Argentina', 'Brazil', 'Colombia', 'Chile', 'Ecuador', 'Peru',\n",
    "    'Austria', 'Belarus','Belgium', 'Czech Republic', 'Denmark', 'France', 'Germany', 'Greece', 'Turkey',  'Ukraine',\n",
    "    'Ireland',  'Italy', 'Netherlands', 'Norway', 'Poland', 'Portugal', 'Romania', \n",
    "    'Russia', 'Spain', 'Sweden', 'Switzerland', 'United Kingdom of Great Britain and Northern Ireland',\n",
    "    'China', 'Bangladesh', 'Australia', 'Hong Kong (S.A.R.)', 'India', 'Indonesia', 'Japan', 'Kazakhstan', 'Viet Nam',\n",
    "    'Israel', 'Iran, Islamic Republic of...', 'Iraq', 'Malaysia', 'Nepal', 'Pakistan', 'Philippines',  'United Arab Emirates',\n",
    "    'Saudi Arabia', 'Singapore', 'South Korea',  'Sri Lanka', 'Taiwan', 'Thailand', \n",
    "    'Canada', 'Mexico', 'United States of America',\n",
    "    'Other', 'I do not wish to disclose my location', # countries\n",
    "    'No formal education past high school', 'Some college/university study without earning a bachelor’s degree',\n",
    "    'Bachelor’s degree', 'Master’s degree', 'Professional doctorate' , 'Doctoral degree', 'I prefer not to answer', # highest education\n",
    "    'Student', 'Business Analyst', 'Data Analyst', \n",
    "    'DBA/Database Engineer', 'Data Engineer', 'Machine Learning Engineer', 'Software Engineer',\n",
    "    'Data Scientist', 'Research Scientist', 'Statistician',\n",
    "    'Developer Relations/Advocacy', \n",
    "    'Product Manager', 'Program/Project Manager', \n",
    "    'Other', 'Currently not employed',# Role\n",
    "    \n",
    "]\n",
    "\"\"\""
   ]
  },
  {
   "cell_type": "code",
   "execution_count": null,
   "metadata": {},
   "outputs": [],
   "source": [
    "\"\"\"\n",
    "[['China','India','Germany',\n",
    "                      'United States of America',\n",
    "                      'United Kingdom of Great Britain and Northern Ireland',\n",
    "                     'Japan',\n",
    "                     'Australia',\n",
    "                     'Russia',\n",
    "                      'Sweden',\n",
    "                     'France',\n",
    "                     'South Korea',\n",
    "                     'Turkey']]\n",
    "\"\"\""
   ]
  },
  {
   "cell_type": "code",
   "execution_count": null,
   "metadata": {},
   "outputs": [],
   "source": [
    "# load dataset\n",
    "# data = pd.read_csv(\"../input/kaggle-survey-2021/kaggle_survey_2021_responses.csv\", low_memory = False)\n",
    "\n",
    "#data_matrix = binary_data.dot(np.transpose(binary_data))"
   ]
  }
 ],
 "metadata": {
  "kernelspec": {
   "display_name": "Python 3",
   "language": "python",
   "name": "python3"
  },
  "language_info": {
   "codemirror_mode": {
    "name": "ipython",
    "version": 3
   },
   "file_extension": ".py",
   "mimetype": "text/x-python",
   "name": "python",
   "nbconvert_exporter": "python",
   "pygments_lexer": "ipython3",
   "version": "3.8.5"
  }
 },
 "nbformat": 4,
 "nbformat_minor": 4
}
